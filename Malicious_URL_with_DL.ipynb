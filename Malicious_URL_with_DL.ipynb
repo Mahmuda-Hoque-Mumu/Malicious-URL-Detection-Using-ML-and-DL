{
  "nbformat": 4,
  "nbformat_minor": 0,
  "metadata": {
    "colab": {
      "provenance": []
    },
    "kernelspec": {
      "name": "python3",
      "display_name": "Python 3"
    },
    "language_info": {
      "name": "python"
    },
    "accelerator": "GPU",
    "gpuClass": "standard"
  },
  "cells": [
    {
      "cell_type": "code",
      "execution_count": 1,
      "metadata": {
        "id": "EWQP6ZEkOdkV"
      },
      "outputs": [],
      "source": [
        "import tensorflow as tf\n",
        "import pandas as pd\n",
        "import numpy as np\n",
        "from sklearn.model_selection import train_test_split\n",
        "from sklearn.preprocessing import LabelEncoder, OneHotEncoder"
      ]
    },
    {
      "cell_type": "code",
      "source": [
        "# Load the dataset\n",
        "df = pd.read_csv('malicious_phish.csv')"
      ],
      "metadata": {
        "id": "mYPs2HwWPAyJ"
      },
      "execution_count": 2,
      "outputs": []
    },
    {
      "cell_type": "code",
      "source": [
        "# Categorize the classes\n",
        "df['type'] = df['type'].replace({'benign': 0, 'defacement': 1, 'phishing': 2, 'malware': 3})\n"
      ],
      "metadata": {
        "id": "zRiC22yqPGwT"
      },
      "execution_count": 3,
      "outputs": []
    },
    {
      "cell_type": "code",
      "source": [
        "# Split the dataset into training and testing sets\n",
        "X_train, X_test, y_train, y_test = train_test_split(df['url'], df['type'], test_size=0.2, random_state=0)"
      ],
      "metadata": {
        "id": "XnaXodbxPLCM"
      },
      "execution_count": 4,
      "outputs": []
    },
    {
      "cell_type": "code",
      "source": [
        "# Encode the labels\n",
        "onehot_encoder = OneHotEncoder(sparse=False)\n",
        "y_train = onehot_encoder.fit_transform(y_train.values.reshape(-1, 1))\n",
        "y_test = onehot_encoder.transform(y_test.values.reshape(-1, 1))"
      ],
      "metadata": {
        "id": "Q9glsZ-pPP0z",
        "colab": {
          "base_uri": "https://localhost:8080/"
        },
        "outputId": "946cb55a-d21a-4b7b-faab-290186154245"
      },
      "execution_count": 5,
      "outputs": [
        {
          "output_type": "stream",
          "name": "stderr",
          "text": [
            "/usr/local/lib/python3.10/dist-packages/sklearn/preprocessing/_encoders.py:868: FutureWarning: `sparse` was renamed to `sparse_output` in version 1.2 and will be removed in 1.4. `sparse_output` is ignored unless you leave `sparse` to its default value.\n",
            "  warnings.warn(\n"
          ]
        }
      ]
    },
    {
      "cell_type": "code",
      "source": [
        "# Tokenize the URLs\n",
        "tokenizer = tf.keras.preprocessing.text.Tokenizer(num_words=10000)\n",
        "tokenizer.fit_on_texts(X_train)\n",
        "\n",
        "X_train = tokenizer.texts_to_sequences(X_train)\n",
        "X_test = tokenizer.texts_to_sequences(X_test)"
      ],
      "metadata": {
        "id": "6nWLdAnOPSmN"
      },
      "execution_count": 6,
      "outputs": []
    },
    {
      "cell_type": "code",
      "source": [
        "# Pad the sequences\n",
        "X_train = tf.keras.preprocessing.sequence.pad_sequences(X_train, maxlen=200, padding='post', truncating='post')\n",
        "X_test = tf.keras.preprocessing.sequence.pad_sequences(X_test, maxlen=200, padding='post', truncating='post')"
      ],
      "metadata": {
        "id": "7FQtOAspPVcL"
      },
      "execution_count": 7,
      "outputs": []
    },
    {
      "cell_type": "code",
      "source": [
        "# Define the model\n",
        "model = tf.keras.Sequential([\n",
        "    tf.keras.layers.Embedding(input_dim=len(tokenizer.word_index)+1, output_dim=32, input_length=200),\n",
        "    tf.keras.layers.Flatten(),\n",
        "    tf.keras.layers.Dense(64, activation='relu'),\n",
        "    tf.keras.layers.Dense(32, activation='relu'),\n",
        "    tf.keras.layers.Dense(4, activation='softmax')\n",
        "])\n",
        "\n",
        "model.summary()\n"
      ],
      "metadata": {
        "colab": {
          "base_uri": "https://localhost:8080/"
        },
        "id": "exLdXTv2PYIq",
        "outputId": "ec37c270-d954-438f-d615-ece526aad5ca"
      },
      "execution_count": 8,
      "outputs": [
        {
          "output_type": "stream",
          "name": "stdout",
          "text": [
            "Model: \"sequential\"\n",
            "_________________________________________________________________\n",
            " Layer (type)                Output Shape              Param #   \n",
            "=================================================================\n",
            " embedding (Embedding)       (None, 200, 32)           14883424  \n",
            "                                                                 \n",
            " flatten (Flatten)           (None, 6400)              0         \n",
            "                                                                 \n",
            " dense (Dense)               (None, 64)                409664    \n",
            "                                                                 \n",
            " dense_1 (Dense)             (None, 32)                2080      \n",
            "                                                                 \n",
            " dense_2 (Dense)             (None, 4)                 132       \n",
            "                                                                 \n",
            "=================================================================\n",
            "Total params: 15295300 (58.35 MB)\n",
            "Trainable params: 15295300 (58.35 MB)\n",
            "Non-trainable params: 0 (0.00 Byte)\n",
            "_________________________________________________________________\n"
          ]
        }
      ]
    },
    {
      "cell_type": "code",
      "source": [
        "# Compile the model\n",
        "model.compile(loss='categorical_crossentropy', optimizer='rmsprop', metrics=['accuracy'])"
      ],
      "metadata": {
        "id": "9pEKBxWUPZ8x"
      },
      "execution_count": 9,
      "outputs": []
    },
    {
      "cell_type": "code",
      "source": [
        "# Train the model\n",
        "model.fit(X_train, y_train, epochs=5, batch_size=32, validation_data=(X_test, y_test))\n"
      ],
      "metadata": {
        "colab": {
          "base_uri": "https://localhost:8080/"
        },
        "id": "oZyiV4lcPbrI",
        "outputId": "708b3ec1-8d1d-4110-c7af-f6d1f156bb55"
      },
      "execution_count": 10,
      "outputs": [
        {
          "output_type": "stream",
          "name": "stdout",
          "text": [
            "Epoch 1/5\n",
            "16280/16280 [==============================] - 107s 6ms/step - loss: 0.1799 - accuracy: 0.9373 - val_loss: 0.1406 - val_accuracy: 0.9511\n",
            "Epoch 2/5\n",
            "16280/16280 [==============================] - 88s 5ms/step - loss: 0.1506 - accuracy: 0.9506 - val_loss: 0.1483 - val_accuracy: 0.9509\n",
            "Epoch 3/5\n",
            "16280/16280 [==============================] - 87s 5ms/step - loss: 0.1510 - accuracy: 0.9518 - val_loss: 0.1617 - val_accuracy: 0.9491\n",
            "Epoch 4/5\n",
            "16280/16280 [==============================] - 85s 5ms/step - loss: 0.1524 - accuracy: 0.9527 - val_loss: 0.1597 - val_accuracy: 0.9524\n",
            "Epoch 5/5\n",
            "16280/16280 [==============================] - 88s 5ms/step - loss: 0.1483 - accuracy: 0.9540 - val_loss: 0.1468 - val_accuracy: 0.9533\n"
          ]
        },
        {
          "output_type": "execute_result",
          "data": {
            "text/plain": [
              "<keras.src.callbacks.History at 0x7a0b43db99c0>"
            ]
          },
          "metadata": {},
          "execution_count": 10
        }
      ]
    },
    {
      "cell_type": "code",
      "source": [
        "# Evaluate the model\n",
        "model.evaluate(X_test, y_test)"
      ],
      "metadata": {
        "colab": {
          "base_uri": "https://localhost:8080/"
        },
        "id": "XQ4um-N7PdJx",
        "outputId": "bdfcfa46-c2a8-4e07-80a3-b1c64cf86b44"
      },
      "execution_count": 11,
      "outputs": [
        {
          "output_type": "stream",
          "name": "stdout",
          "text": [
            "4070/4070 [==============================] - 10s 2ms/step - loss: 0.1468 - accuracy: 0.9533\n"
          ]
        },
        {
          "output_type": "execute_result",
          "data": {
            "text/plain": [
              "[0.1467837244272232, 0.9533396363258362]"
            ]
          },
          "metadata": {},
          "execution_count": 11
        }
      ]
    }
  ]
}